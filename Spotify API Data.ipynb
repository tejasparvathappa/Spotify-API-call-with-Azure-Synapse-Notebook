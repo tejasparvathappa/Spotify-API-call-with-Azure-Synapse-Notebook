{
  "cells": [
    {
      "cell_type": "markdown",
      "source": [
        "# Pulling data from Spotify API "
      ],
      "metadata": {
        "nteract": {
          "transient": {
            "deleting": false
          }
        }
      }
    },
    {
      "cell_type": "markdown",
      "source": [
        "### Using the SpotiPy library"
      ],
      "metadata": {
        "nteract": {
          "transient": {
            "deleting": false
          }
        }
      }
    },
    {
      "cell_type": "code",
      "source": [
        "# Import spotipy and initialise\n",
        "import spotipy\n",
        "from spotipy.oauth2 import SpotifyClientCredentials\n",
        "client_id = '",
        "client_secret = '",
        "client_credentials_manager = SpotifyClientCredentials(client_id, client_secret)\n",
        "sp = spotipy.Spotify(client_credentials_manager=client_credentials_manager)"
      ],
      "outputs": [
        {
          "output_type": "display_data",
          "data": {
            "application/vnd.livy.statement-meta+json": {
              "spark_pool": "tejasspark",
              "session_id": "2",
              "statement_id": 10,
              "state": "finished",
              "livy_statement_state": "available",
              "queued_time": "2022-11-25T01:06:15.733229Z",
              "session_start_time": null,
              "execution_start_time": "2022-11-25T01:06:15.8548098Z",
              "execution_finish_time": "2022-11-25T01:06:16.0546227Z",
              "spark_jobs": null
            },
            "text/plain": "StatementMeta(tejasspark, 2, 10, Finished, Available)"
          },
          "metadata": {}
        }
      ],
      "execution_count": 10,
      "metadata": {}
    },
    {
      "cell_type": "code",
      "source": [
        "# Importing all libraries required\n",
        "import pandas as pd\n",
        "import numpy as np\n",
        "import chart_studio.plotly as py\n",
        "import chart_studio.tools as tls\n",
        "import plotly.express as px\n",
        "from plotly.offline import init_notebook_mode, iplot\n",
        "init_notebook_mode(connected=True)\n",
        "import plotly.graph_objs as go\n",
        "import chart_studio"
      ],
      "outputs": [
        {
          "output_type": "display_data",
          "data": {
            "application/vnd.livy.statement-meta+json": {
              "spark_pool": "tejasspark",
              "session_id": "2",
              "statement_id": 11,
              "state": "finished",
              "livy_statement_state": "available",
              "queued_time": "2022-11-25T01:06:15.7664795Z",
              "session_start_time": null,
              "execution_start_time": "2022-11-25T01:06:16.1840161Z",
              "execution_finish_time": "2022-11-25T01:06:16.3401562Z",
              "spark_jobs": null
            },
            "text/plain": "StatementMeta(tejasspark, 2, 11, Finished, Available)"
          },
          "metadata": {}
        },
        {
          "output_type": "display_data",
          "data": {
            "text/html": "        <script type=\"text/javascript\">\n        window.PlotlyConfig = {MathJaxConfig: 'local'};\n        if (window.MathJax) {MathJax.Hub.Config({SVG: {font: \"STIX-Web\"}});}\n        if (typeof require !== 'undefined') {\n        require.undef(\"plotly\");\n        requirejs.config({\n            paths: {\n                'plotly': ['https://cdn.plot.ly/plotly-latest.min']\n            }\n        });\n        require(['plotly'], function(Plotly) {\n            window._Plotly = Plotly;\n        });\n        }\n        </script>\n        "
          },
          "metadata": {}
        }
      ],
      "execution_count": 11,
      "metadata": {
        "jupyter": {
          "source_hidden": false,
          "outputs_hidden": false
        },
        "nteract": {
          "transient": {
            "deleting": false
          }
        }
      }
    },
    {
      "cell_type": "markdown",
      "source": [
        "### Appending API Data to lists for US Market data (2022)"
      ],
      "metadata": {
        "nteract": {
          "transient": {
            "deleting": false
          }
        }
      }
    },
    {
      "cell_type": "code",
      "source": [
        "# Creating an empty lists for track features\n",
        "artist = []\n",
        "track = []\n",
        "track_popularity = []\n",
        "artist_id = []\n",
        "track_id = []\n",
        "length = []\n",
        "#Quering Track features\n",
        "for i in range(0,1000,50):\n",
        "    tracks = sp.search(q='year:2022', type = 'track', market = 'US', limit = 50, offset = i)\n",
        "for i, j in enumerate(tracks['tracks']['items']):\n",
        "    artist.append(j['artists'][0]['name'])\n",
        "    artist_id.append(j['artists'][0]['id'])\n",
        "    track.append(j['name'])\n",
        "    track_id.append(j['id'])\n",
        "    track_popularity.append(j['popularity'])\n",
        "    length.append(j['duration_ms'])"
      ],
      "outputs": [
        {
          "output_type": "display_data",
          "data": {
            "application/vnd.livy.statement-meta+json": {
              "spark_pool": "tejasspark",
              "session_id": "2",
              "statement_id": 12,
              "state": "finished",
              "livy_statement_state": "available",
              "queued_time": "2022-11-25T01:06:15.8496361Z",
              "session_start_time": null,
              "execution_start_time": "2022-11-25T01:06:16.4571713Z",
              "execution_finish_time": "2022-11-25T01:06:27.2353134Z",
              "spark_jobs": null
            },
            "text/plain": "StatementMeta(tejasspark, 2, 12, Finished, Available)"
          },
          "metadata": {}
        }
      ],
      "execution_count": 12,
      "metadata": {
        "jupyter": {
          "source_hidden": false,
          "outputs_hidden": false
        },
        "nteract": {
          "transient": {
            "deleting": false
          }
        }
      }
    },
    {
      "cell_type": "code",
      "source": [
        "# Store in the dataframe\n",
        "df = pd.DataFrame({'Artist' : artist, 'Track' : track, 'Track_id' : track_id, 'Track_popularity' : track_popularity, 'Artist_id' : artist_id, 'Length' : length})\n",
        "print(\"Shape of the Spotify dataframe\",df.shape)\n",
        "df.head()"
      ],
      "outputs": [
        {
          "output_type": "display_data",
          "data": {
            "application/vnd.livy.statement-meta+json": {
              "spark_pool": "tejasspark",
              "session_id": "2",
              "statement_id": 13,
              "state": "finished",
              "livy_statement_state": "available",
              "queued_time": "2022-11-25T01:06:15.8774408Z",
              "session_start_time": null,
              "execution_start_time": "2022-11-25T01:06:27.3596049Z",
              "execution_finish_time": "2022-11-25T01:06:27.5550036Z",
              "spark_jobs": null
            },
            "text/plain": "StatementMeta(tejasspark, 2, 13, Finished, Available)"
          },
          "metadata": {}
        },
        {
          "output_type": "stream",
          "name": "stdout",
          "text": [
            "Shape of the Spotify dataframe (50, 6)\n"
          ]
        },
        {
          "output_type": "execute_result",
          "execution_count": 43,
          "data": {
            "text/plain": "             Artist                                        Track  \\\n0  Carly Rae Jepsen  The Loneliest Time (feat. Rufus Wainwright)   \n1       Riley Green                          Hell Of A Way To Go   \n2        Luke Combs                                   Doin' This   \n3         Jung Kook               Stay Alive (Prod. SUGA of BTS)   \n4    Rauw Alejandro                                     PUNTO 40   \n\n                 Track_id  Track_popularity               Artist_id  Length  \n0  1sV6bR42OhPi2PL7ZPHLNi                70  6sFIWsNpZYqfjUpaCgueju  274506  \n1  4vfTyv3PkLAac4zTn5P82d                66  2QMsj4XJ7ne2hojxt6v5eb  166133  \n2  6TpyujRefwsflWFXbmjVpj                68  718COspgdWOnwOFpJHRZHS  254173  \n3  7CAdT0HdiQNlt1C7xk2hep                79  6HaGTQPmzraVmaVxvz6EUc  210928  \n4  58cEG7FsVoipRiRKUMgOjo                73  1mcTU81TzQhprhouKaTkpq  190654  ",
            "text/html": "<div>\n<style scoped>\n    .dataframe tbody tr th:only-of-type {\n        vertical-align: middle;\n    }\n\n    .dataframe tbody tr th {\n        vertical-align: top;\n    }\n\n    .dataframe thead th {\n        text-align: right;\n    }\n</style>\n<table border=\"1\" class=\"dataframe\">\n  <thead>\n    <tr style=\"text-align: right;\">\n      <th></th>\n      <th>Artist</th>\n      <th>Track</th>\n      <th>Track_id</th>\n      <th>Track_popularity</th>\n      <th>Artist_id</th>\n      <th>Length</th>\n    </tr>\n  </thead>\n  <tbody>\n    <tr>\n      <th>0</th>\n      <td>Carly Rae Jepsen</td>\n      <td>The Loneliest Time (feat. Rufus Wainwright)</td>\n      <td>1sV6bR42OhPi2PL7ZPHLNi</td>\n      <td>70</td>\n      <td>6sFIWsNpZYqfjUpaCgueju</td>\n      <td>274506</td>\n    </tr>\n    <tr>\n      <th>1</th>\n      <td>Riley Green</td>\n      <td>Hell Of A Way To Go</td>\n      <td>4vfTyv3PkLAac4zTn5P82d</td>\n      <td>66</td>\n      <td>2QMsj4XJ7ne2hojxt6v5eb</td>\n      <td>166133</td>\n    </tr>\n    <tr>\n      <th>2</th>\n      <td>Luke Combs</td>\n      <td>Doin' This</td>\n      <td>6TpyujRefwsflWFXbmjVpj</td>\n      <td>68</td>\n      <td>718COspgdWOnwOFpJHRZHS</td>\n      <td>254173</td>\n    </tr>\n    <tr>\n      <th>3</th>\n      <td>Jung Kook</td>\n      <td>Stay Alive (Prod. SUGA of BTS)</td>\n      <td>7CAdT0HdiQNlt1C7xk2hep</td>\n      <td>79</td>\n      <td>6HaGTQPmzraVmaVxvz6EUc</td>\n      <td>210928</td>\n    </tr>\n    <tr>\n      <th>4</th>\n      <td>Rauw Alejandro</td>\n      <td>PUNTO 40</td>\n      <td>58cEG7FsVoipRiRKUMgOjo</td>\n      <td>73</td>\n      <td>1mcTU81TzQhprhouKaTkpq</td>\n      <td>190654</td>\n    </tr>\n  </tbody>\n</table>\n</div>"
          },
          "metadata": {}
        }
      ],
      "execution_count": 13,
      "metadata": {
        "jupyter": {
          "source_hidden": false,
          "outputs_hidden": false
        },
        "nteract": {
          "transient": {
            "deleting": false
          }
        }
      }
    },
    {
      "cell_type": "markdown",
      "source": [
        "### Getting additional artist features"
      ],
      "metadata": {
        "nteract": {
          "transient": {
            "deleting": false
          }
        }
      }
    },
    {
      "cell_type": "code",
      "source": [
        "artist_popularity = []\n",
        "genres = []\n",
        "followers = []\n",
        "for i in artist_id:\n",
        "    artist = sp.artist(i)\n",
        "    artist_popularity.append(artist['popularity'])\n",
        "    genres.append(artist['genres'])\n",
        "    followers.append(artist['followers']['total'])\n",
        "#Assigning the above features into dataframe 'df'\n",
        "df = df.assign(Artist_Popularity = artist_popularity, Genres = genres, Followers= followers)\n",
        "df.head()"
      ],
      "outputs": [
        {
          "output_type": "display_data",
          "data": {
            "application/vnd.livy.statement-meta+json": {
              "spark_pool": "tejasspark",
              "session_id": "2",
              "statement_id": 14,
              "state": "finished",
              "livy_statement_state": "available",
              "queued_time": "2022-11-25T01:06:15.9269888Z",
              "session_start_time": null,
              "execution_start_time": "2022-11-25T01:06:27.6759017Z",
              "execution_finish_time": "2022-11-25T01:06:30.4807837Z",
              "spark_jobs": null
            },
            "text/plain": "StatementMeta(tejasspark, 2, 14, Finished, Available)"
          },
          "metadata": {}
        },
        {
          "output_type": "execute_result",
          "execution_count": 46,
          "data": {
            "text/plain": "             Artist                                        Track  \\\n0  Carly Rae Jepsen  The Loneliest Time (feat. Rufus Wainwright)   \n1       Riley Green                          Hell Of A Way To Go   \n2        Luke Combs                                   Doin' This   \n3         Jung Kook               Stay Alive (Prod. SUGA of BTS)   \n4    Rauw Alejandro                                     PUNTO 40   \n\n                 Track_id  Track_popularity               Artist_id  Length  \\\n0  1sV6bR42OhPi2PL7ZPHLNi                70  6sFIWsNpZYqfjUpaCgueju  274506   \n1  4vfTyv3PkLAac4zTn5P82d                66  2QMsj4XJ7ne2hojxt6v5eb  166133   \n2  6TpyujRefwsflWFXbmjVpj                68  718COspgdWOnwOFpJHRZHS  254173   \n3  7CAdT0HdiQNlt1C7xk2hep                79  6HaGTQPmzraVmaVxvz6EUc  210928   \n4  58cEG7FsVoipRiRKUMgOjo                73  1mcTU81TzQhprhouKaTkpq  190654   \n\n   Artist_Popularity                                         Genres  Followers  \n0                 74  [canadian pop, dance pop, pop, post-teen pop]    5169766  \n1                 66  [contemporary country, country, country road]     486823  \n2                 80                [contemporary country, country]    7477035  \n3                 76                                        [k-pop]    4995923  \n4                 88                [puerto rican pop, trap latino]   14415774  ",
            "text/html": "<div>\n<style scoped>\n    .dataframe tbody tr th:only-of-type {\n        vertical-align: middle;\n    }\n\n    .dataframe tbody tr th {\n        vertical-align: top;\n    }\n\n    .dataframe thead th {\n        text-align: right;\n    }\n</style>\n<table border=\"1\" class=\"dataframe\">\n  <thead>\n    <tr style=\"text-align: right;\">\n      <th></th>\n      <th>Artist</th>\n      <th>Track</th>\n      <th>Track_id</th>\n      <th>Track_popularity</th>\n      <th>Artist_id</th>\n      <th>Length</th>\n      <th>Artist_Popularity</th>\n      <th>Genres</th>\n      <th>Followers</th>\n    </tr>\n  </thead>\n  <tbody>\n    <tr>\n      <th>0</th>\n      <td>Carly Rae Jepsen</td>\n      <td>The Loneliest Time (feat. Rufus Wainwright)</td>\n      <td>1sV6bR42OhPi2PL7ZPHLNi</td>\n      <td>70</td>\n      <td>6sFIWsNpZYqfjUpaCgueju</td>\n      <td>274506</td>\n      <td>74</td>\n      <td>[canadian pop, dance pop, pop, post-teen pop]</td>\n      <td>5169766</td>\n    </tr>\n    <tr>\n      <th>1</th>\n      <td>Riley Green</td>\n      <td>Hell Of A Way To Go</td>\n      <td>4vfTyv3PkLAac4zTn5P82d</td>\n      <td>66</td>\n      <td>2QMsj4XJ7ne2hojxt6v5eb</td>\n      <td>166133</td>\n      <td>66</td>\n      <td>[contemporary country, country, country road]</td>\n      <td>486823</td>\n    </tr>\n    <tr>\n      <th>2</th>\n      <td>Luke Combs</td>\n      <td>Doin' This</td>\n      <td>6TpyujRefwsflWFXbmjVpj</td>\n      <td>68</td>\n      <td>718COspgdWOnwOFpJHRZHS</td>\n      <td>254173</td>\n      <td>80</td>\n      <td>[contemporary country, country]</td>\n      <td>7477035</td>\n    </tr>\n    <tr>\n      <th>3</th>\n      <td>Jung Kook</td>\n      <td>Stay Alive (Prod. SUGA of BTS)</td>\n      <td>7CAdT0HdiQNlt1C7xk2hep</td>\n      <td>79</td>\n      <td>6HaGTQPmzraVmaVxvz6EUc</td>\n      <td>210928</td>\n      <td>76</td>\n      <td>[k-pop]</td>\n      <td>4995923</td>\n    </tr>\n    <tr>\n      <th>4</th>\n      <td>Rauw Alejandro</td>\n      <td>PUNTO 40</td>\n      <td>58cEG7FsVoipRiRKUMgOjo</td>\n      <td>73</td>\n      <td>1mcTU81TzQhprhouKaTkpq</td>\n      <td>190654</td>\n      <td>88</td>\n      <td>[puerto rican pop, trap latino]</td>\n      <td>14415774</td>\n    </tr>\n  </tbody>\n</table>\n</div>"
          },
          "metadata": {}
        }
      ],
      "execution_count": 14,
      "metadata": {
        "jupyter": {
          "source_hidden": false,
          "outputs_hidden": false
        },
        "nteract": {
          "transient": {
            "deleting": false
          }
        }
      }
    },
    {
      "cell_type": "markdown",
      "source": [
        "### Getting additonal track features"
      ],
      "metadata": {
        "nteract": {
          "transient": {
            "deleting": false
          }
        }
      }
    },
    {
      "cell_type": "code",
      "source": [
        "#Creating a empty list\n",
        "track_features = []\n",
        "#Extracting the track features by looping into track id and creating a new dataframe called \"trckfeatures\"\n",
        "for i in df['Track_id']:\n",
        "    feature = sp.audio_features(i)\n",
        "    track_features.append(feature)\n",
        "trckfeatures = pd.DataFrame(columns = ['danceability', 'energy', 'key', 'loudness', 'mode', 'speechiness', 'acousticness', 'instrumentalness', 'liveness', 'valence', 'tempo', 'type', 'id', 'uri', 'track_href', 'analysis_url', 'duration_ms', 'time_signature'])\n",
        "for j in track_features:\n",
        "    for k in j:\n",
        "        trckfeatures = trckfeatures.append(k, ignore_index=True)\n",
        "trckfeatures.head()"
      ],
      "outputs": [
        {
          "output_type": "display_data",
          "data": {
            "application/vnd.livy.statement-meta+json": {
              "spark_pool": "tejasspark",
              "session_id": "2",
              "statement_id": 15,
              "state": "finished",
              "livy_statement_state": "available",
              "queued_time": "2022-11-25T01:06:32.8338886Z",
              "session_start_time": null,
              "execution_start_time": "2022-11-25T01:06:33.0601729Z",
              "execution_finish_time": "2022-11-25T01:06:38.5474357Z",
              "spark_jobs": null
            },
            "text/plain": "StatementMeta(tejasspark, 2, 15, Finished, Available)"
          },
          "metadata": {}
        },
        {
          "output_type": "execute_result",
          "execution_count": 49,
          "data": {
            "text/plain": "   danceability  energy key  loudness mode  speechiness  acousticness  \\\n0         0.686   0.568   2    -6.196    1       0.0568       0.12000   \n1         0.481   0.740   6    -4.672    1       0.0277       0.02620   \n2         0.588   0.550   1    -5.878    1       0.0269       0.16600   \n3         0.512   0.760   2    -5.889    0       0.0682       0.29900   \n4         0.857   0.829   0    -0.484    1       0.0842       0.00112   \n\n  instrumentalness  liveness  valence    tempo            type  \\\n0                0    0.0991    0.486  122.969  audio_features   \n1                0    0.1570    0.669  150.053  audio_features   \n2         0.000009    0.1100    0.390  115.010  audio_features   \n3                0    0.1030    0.495  130.096  audio_features   \n4            0.015    0.2550    0.208  106.993  audio_features   \n\n                       id                                   uri  \\\n0  1sV6bR42OhPi2PL7ZPHLNi  spotify:track:1sV6bR42OhPi2PL7ZPHLNi   \n1  4vfTyv3PkLAac4zTn5P82d  spotify:track:4vfTyv3PkLAac4zTn5P82d   \n2  6TpyujRefwsflWFXbmjVpj  spotify:track:6TpyujRefwsflWFXbmjVpj   \n3  7CAdT0HdiQNlt1C7xk2hep  spotify:track:7CAdT0HdiQNlt1C7xk2hep   \n4  58cEG7FsVoipRiRKUMgOjo  spotify:track:58cEG7FsVoipRiRKUMgOjo   \n\n                                          track_href  \\\n0  https://api.spotify.com/v1/tracks/1sV6bR42OhPi...   \n1  https://api.spotify.com/v1/tracks/4vfTyv3PkLAa...   \n2  https://api.spotify.com/v1/tracks/6TpyujRefwsf...   \n3  https://api.spotify.com/v1/tracks/7CAdT0HdiQNl...   \n4  https://api.spotify.com/v1/tracks/58cEG7FsVoip...   \n\n                                        analysis_url duration_ms  \\\n0  https://api.spotify.com/v1/audio-analysis/1sV6...      274507   \n1  https://api.spotify.com/v1/audio-analysis/4vfT...      166134   \n2  https://api.spotify.com/v1/audio-analysis/6Tpy...      254173   \n3  https://api.spotify.com/v1/audio-analysis/7CAd...      210928   \n4  https://api.spotify.com/v1/audio-analysis/58cE...      190654   \n\n  time_signature  \n0              4  \n1              4  \n2              4  \n3              4  \n4              4  ",
            "text/html": "<div>\n<style scoped>\n    .dataframe tbody tr th:only-of-type {\n        vertical-align: middle;\n    }\n\n    .dataframe tbody tr th {\n        vertical-align: top;\n    }\n\n    .dataframe thead th {\n        text-align: right;\n    }\n</style>\n<table border=\"1\" class=\"dataframe\">\n  <thead>\n    <tr style=\"text-align: right;\">\n      <th></th>\n      <th>danceability</th>\n      <th>energy</th>\n      <th>key</th>\n      <th>loudness</th>\n      <th>mode</th>\n      <th>speechiness</th>\n      <th>acousticness</th>\n      <th>instrumentalness</th>\n      <th>liveness</th>\n      <th>valence</th>\n      <th>tempo</th>\n      <th>type</th>\n      <th>id</th>\n      <th>uri</th>\n      <th>track_href</th>\n      <th>analysis_url</th>\n      <th>duration_ms</th>\n      <th>time_signature</th>\n    </tr>\n  </thead>\n  <tbody>\n    <tr>\n      <th>0</th>\n      <td>0.686</td>\n      <td>0.568</td>\n      <td>2</td>\n      <td>-6.196</td>\n      <td>1</td>\n      <td>0.0568</td>\n      <td>0.12000</td>\n      <td>0</td>\n      <td>0.0991</td>\n      <td>0.486</td>\n      <td>122.969</td>\n      <td>audio_features</td>\n      <td>1sV6bR42OhPi2PL7ZPHLNi</td>\n      <td>spotify:track:1sV6bR42OhPi2PL7ZPHLNi</td>\n      <td>https://api.spotify.com/v1/tracks/1sV6bR42OhPi...</td>\n      <td>https://api.spotify.com/v1/audio-analysis/1sV6...</td>\n      <td>274507</td>\n      <td>4</td>\n    </tr>\n    <tr>\n      <th>1</th>\n      <td>0.481</td>\n      <td>0.740</td>\n      <td>6</td>\n      <td>-4.672</td>\n      <td>1</td>\n      <td>0.0277</td>\n      <td>0.02620</td>\n      <td>0</td>\n      <td>0.1570</td>\n      <td>0.669</td>\n      <td>150.053</td>\n      <td>audio_features</td>\n      <td>4vfTyv3PkLAac4zTn5P82d</td>\n      <td>spotify:track:4vfTyv3PkLAac4zTn5P82d</td>\n      <td>https://api.spotify.com/v1/tracks/4vfTyv3PkLAa...</td>\n      <td>https://api.spotify.com/v1/audio-analysis/4vfT...</td>\n      <td>166134</td>\n      <td>4</td>\n    </tr>\n    <tr>\n      <th>2</th>\n      <td>0.588</td>\n      <td>0.550</td>\n      <td>1</td>\n      <td>-5.878</td>\n      <td>1</td>\n      <td>0.0269</td>\n      <td>0.16600</td>\n      <td>0.000009</td>\n      <td>0.1100</td>\n      <td>0.390</td>\n      <td>115.010</td>\n      <td>audio_features</td>\n      <td>6TpyujRefwsflWFXbmjVpj</td>\n      <td>spotify:track:6TpyujRefwsflWFXbmjVpj</td>\n      <td>https://api.spotify.com/v1/tracks/6TpyujRefwsf...</td>\n      <td>https://api.spotify.com/v1/audio-analysis/6Tpy...</td>\n      <td>254173</td>\n      <td>4</td>\n    </tr>\n    <tr>\n      <th>3</th>\n      <td>0.512</td>\n      <td>0.760</td>\n      <td>2</td>\n      <td>-5.889</td>\n      <td>0</td>\n      <td>0.0682</td>\n      <td>0.29900</td>\n      <td>0</td>\n      <td>0.1030</td>\n      <td>0.495</td>\n      <td>130.096</td>\n      <td>audio_features</td>\n      <td>7CAdT0HdiQNlt1C7xk2hep</td>\n      <td>spotify:track:7CAdT0HdiQNlt1C7xk2hep</td>\n      <td>https://api.spotify.com/v1/tracks/7CAdT0HdiQNl...</td>\n      <td>https://api.spotify.com/v1/audio-analysis/7CAd...</td>\n      <td>210928</td>\n      <td>4</td>\n    </tr>\n    <tr>\n      <th>4</th>\n      <td>0.857</td>\n      <td>0.829</td>\n      <td>0</td>\n      <td>-0.484</td>\n      <td>1</td>\n      <td>0.0842</td>\n      <td>0.00112</td>\n      <td>0.015</td>\n      <td>0.2550</td>\n      <td>0.208</td>\n      <td>106.993</td>\n      <td>audio_features</td>\n      <td>58cEG7FsVoipRiRKUMgOjo</td>\n      <td>spotify:track:58cEG7FsVoipRiRKUMgOjo</td>\n      <td>https://api.spotify.com/v1/tracks/58cEG7FsVoip...</td>\n      <td>https://api.spotify.com/v1/audio-analysis/58cE...</td>\n      <td>190654</td>\n      <td>4</td>\n    </tr>\n  </tbody>\n</table>\n</div>"
          },
          "metadata": {}
        }
      ],
      "execution_count": 15,
      "metadata": {
        "jupyter": {
          "source_hidden": false,
          "outputs_hidden": false
        },
        "nteract": {
          "transient": {
            "deleting": false
          }
        }
      }
    },
    {
      "cell_type": "markdown",
      "source": [
        "#### Some Data Transformation for cleaner data into the final Data Frame"
      ],
      "metadata": {
        "nteract": {
          "transient": {
            "deleting": false
          }
        }
      }
    },
    {
      "cell_type": "code",
      "source": [
        "# Merging Track and Audio Features and stored in 'df1'\n",
        "df1 = pd.merge(df, trckfeatures, how = 'inner', left_on = 'Track_id', right_on = 'id')\n",
        "\n",
        "# Dropping the unwanted features\n",
        "df1 = df1[['Artist', 'Track', 'Track_id', 'Track_popularity', 'Artist_id','Artist_Popularity', 'Genres', 'Followers', 'danceability','energy', 'key', 'loudness', 'mode', 'speechiness', 'acousticness','instrumentalness', 'liveness', 'valence', 'tempo', 'duration_ms']]\n",
        "\n",
        "#Capitalizing the Artist and Track\n",
        "df1['Artist'] = df1['Artist'].str.capitalize()\n",
        "df1['Track'] = df1['Track'].str.capitalize()\n",
        "\n",
        "# Changing the data type\n",
        "df1['key'] = df1['key'].astype(int)\n",
        "df1['mode'] = df1['mode'].astype(int)\n",
        "df1['instrumentalness'] = df1['instrumentalness'].astype(float)\n",
        "df1['duration_ms'] = df1['duration_ms'].astype(int)\n",
        "\n",
        "# Duration_ms in milliseconds. Convert into minutes\n",
        "df1['duration_ms'] = df1.apply(lambda x: round(x['duration_ms']/60000,2), axis=1)"
      ],
      "outputs": [
        {
          "output_type": "display_data",
          "data": {
            "application/vnd.livy.statement-meta+json": {
              "spark_pool": "tejasspark",
              "session_id": "2",
              "statement_id": 16,
              "state": "finished",
              "livy_statement_state": "available",
              "queued_time": "2022-11-25T01:06:40.2816142Z",
              "session_start_time": null,
              "execution_start_time": "2022-11-25T01:06:40.3968139Z",
              "execution_finish_time": "2022-11-25T01:06:40.7672516Z",
              "spark_jobs": null
            },
            "text/plain": "StatementMeta(tejasspark, 2, 16, Finished, Available)"
          },
          "metadata": {}
        }
      ],
      "execution_count": 16,
      "metadata": {
        "jupyter": {
          "source_hidden": false,
          "outputs_hidden": false
        },
        "nteract": {
          "transient": {
            "deleting": false
          }
        }
      }
    },
    {
      "cell_type": "markdown",
      "source": [
        "### Final Data Frame"
      ],
      "metadata": {
        "nteract": {
          "transient": {
            "deleting": false
          }
        }
      }
    },
    {
      "cell_type": "code",
      "source": [
        "df1.head()"
      ],
      "outputs": [
        {
          "output_type": "display_data",
          "data": {
            "application/vnd.livy.statement-meta+json": {
              "spark_pool": "tejasspark",
              "session_id": "2",
              "statement_id": 17,
              "state": "finished",
              "livy_statement_state": "available",
              "queued_time": "2022-11-25T01:06:49.1707252Z",
              "session_start_time": null,
              "execution_start_time": "2022-11-25T01:06:49.2910597Z",
              "execution_finish_time": "2022-11-25T01:06:49.4582676Z",
              "spark_jobs": null
            },
            "text/plain": "StatementMeta(tejasspark, 2, 17, Finished, Available)"
          },
          "metadata": {}
        },
        {
          "output_type": "execute_result",
          "execution_count": 55,
          "data": {
            "text/plain": "             Artist                                        Track  \\\n0  Carly rae jepsen  The loneliest time (feat. rufus wainwright)   \n1       Riley green                          Hell of a way to go   \n2        Luke combs                                   Doin' this   \n3         Jung kook               Stay alive (prod. suga of bts)   \n4    Rauw alejandro                                     Punto 40   \n\n                 Track_id  Track_popularity               Artist_id  \\\n0  1sV6bR42OhPi2PL7ZPHLNi                70  6sFIWsNpZYqfjUpaCgueju   \n1  4vfTyv3PkLAac4zTn5P82d                66  2QMsj4XJ7ne2hojxt6v5eb   \n2  6TpyujRefwsflWFXbmjVpj                68  718COspgdWOnwOFpJHRZHS   \n3  7CAdT0HdiQNlt1C7xk2hep                79  6HaGTQPmzraVmaVxvz6EUc   \n4  58cEG7FsVoipRiRKUMgOjo                73  1mcTU81TzQhprhouKaTkpq   \n\n   Artist_Popularity                                         Genres  \\\n0                 74  [canadian pop, dance pop, pop, post-teen pop]   \n1                 66  [contemporary country, country, country road]   \n2                 80                [contemporary country, country]   \n3                 76                                        [k-pop]   \n4                 88                [puerto rican pop, trap latino]   \n\n   Followers  danceability  energy  key  loudness  mode  speechiness  \\\n0    5169766         0.686   0.568    2    -6.196     1       0.0568   \n1     486823         0.481   0.740    6    -4.672     1       0.0277   \n2    7477035         0.588   0.550    1    -5.878     1       0.0269   \n3    4995923         0.512   0.760    2    -5.889     0       0.0682   \n4   14415774         0.857   0.829    0    -0.484     1       0.0842   \n\n   acousticness  instrumentalness  liveness  valence    tempo  duration_ms  \n0       0.12000          0.000000    0.0991    0.486  122.969         4.58  \n1       0.02620          0.000000    0.1570    0.669  150.053         2.77  \n2       0.16600          0.000009    0.1100    0.390  115.010         4.24  \n3       0.29900          0.000000    0.1030    0.495  130.096         3.52  \n4       0.00112          0.015000    0.2550    0.208  106.993         3.18  ",
            "text/html": "<div>\n<style scoped>\n    .dataframe tbody tr th:only-of-type {\n        vertical-align: middle;\n    }\n\n    .dataframe tbody tr th {\n        vertical-align: top;\n    }\n\n    .dataframe thead th {\n        text-align: right;\n    }\n</style>\n<table border=\"1\" class=\"dataframe\">\n  <thead>\n    <tr style=\"text-align: right;\">\n      <th></th>\n      <th>Artist</th>\n      <th>Track</th>\n      <th>Track_id</th>\n      <th>Track_popularity</th>\n      <th>Artist_id</th>\n      <th>Artist_Popularity</th>\n      <th>Genres</th>\n      <th>Followers</th>\n      <th>danceability</th>\n      <th>energy</th>\n      <th>key</th>\n      <th>loudness</th>\n      <th>mode</th>\n      <th>speechiness</th>\n      <th>acousticness</th>\n      <th>instrumentalness</th>\n      <th>liveness</th>\n      <th>valence</th>\n      <th>tempo</th>\n      <th>duration_ms</th>\n    </tr>\n  </thead>\n  <tbody>\n    <tr>\n      <th>0</th>\n      <td>Carly rae jepsen</td>\n      <td>The loneliest time (feat. rufus wainwright)</td>\n      <td>1sV6bR42OhPi2PL7ZPHLNi</td>\n      <td>70</td>\n      <td>6sFIWsNpZYqfjUpaCgueju</td>\n      <td>74</td>\n      <td>[canadian pop, dance pop, pop, post-teen pop]</td>\n      <td>5169766</td>\n      <td>0.686</td>\n      <td>0.568</td>\n      <td>2</td>\n      <td>-6.196</td>\n      <td>1</td>\n      <td>0.0568</td>\n      <td>0.12000</td>\n      <td>0.000000</td>\n      <td>0.0991</td>\n      <td>0.486</td>\n      <td>122.969</td>\n      <td>4.58</td>\n    </tr>\n    <tr>\n      <th>1</th>\n      <td>Riley green</td>\n      <td>Hell of a way to go</td>\n      <td>4vfTyv3PkLAac4zTn5P82d</td>\n      <td>66</td>\n      <td>2QMsj4XJ7ne2hojxt6v5eb</td>\n      <td>66</td>\n      <td>[contemporary country, country, country road]</td>\n      <td>486823</td>\n      <td>0.481</td>\n      <td>0.740</td>\n      <td>6</td>\n      <td>-4.672</td>\n      <td>1</td>\n      <td>0.0277</td>\n      <td>0.02620</td>\n      <td>0.000000</td>\n      <td>0.1570</td>\n      <td>0.669</td>\n      <td>150.053</td>\n      <td>2.77</td>\n    </tr>\n    <tr>\n      <th>2</th>\n      <td>Luke combs</td>\n      <td>Doin' this</td>\n      <td>6TpyujRefwsflWFXbmjVpj</td>\n      <td>68</td>\n      <td>718COspgdWOnwOFpJHRZHS</td>\n      <td>80</td>\n      <td>[contemporary country, country]</td>\n      <td>7477035</td>\n      <td>0.588</td>\n      <td>0.550</td>\n      <td>1</td>\n      <td>-5.878</td>\n      <td>1</td>\n      <td>0.0269</td>\n      <td>0.16600</td>\n      <td>0.000009</td>\n      <td>0.1100</td>\n      <td>0.390</td>\n      <td>115.010</td>\n      <td>4.24</td>\n    </tr>\n    <tr>\n      <th>3</th>\n      <td>Jung kook</td>\n      <td>Stay alive (prod. suga of bts)</td>\n      <td>7CAdT0HdiQNlt1C7xk2hep</td>\n      <td>79</td>\n      <td>6HaGTQPmzraVmaVxvz6EUc</td>\n      <td>76</td>\n      <td>[k-pop]</td>\n      <td>4995923</td>\n      <td>0.512</td>\n      <td>0.760</td>\n      <td>2</td>\n      <td>-5.889</td>\n      <td>0</td>\n      <td>0.0682</td>\n      <td>0.29900</td>\n      <td>0.000000</td>\n      <td>0.1030</td>\n      <td>0.495</td>\n      <td>130.096</td>\n      <td>3.52</td>\n    </tr>\n    <tr>\n      <th>4</th>\n      <td>Rauw alejandro</td>\n      <td>Punto 40</td>\n      <td>58cEG7FsVoipRiRKUMgOjo</td>\n      <td>73</td>\n      <td>1mcTU81TzQhprhouKaTkpq</td>\n      <td>88</td>\n      <td>[puerto rican pop, trap latino]</td>\n      <td>14415774</td>\n      <td>0.857</td>\n      <td>0.829</td>\n      <td>0</td>\n      <td>-0.484</td>\n      <td>1</td>\n      <td>0.0842</td>\n      <td>0.00112</td>\n      <td>0.015000</td>\n      <td>0.2550</td>\n      <td>0.208</td>\n      <td>106.993</td>\n      <td>3.18</td>\n    </tr>\n  </tbody>\n</table>\n</div>"
          },
          "metadata": {}
        }
      ],
      "execution_count": 17,
      "metadata": {
        "jupyter": {
          "source_hidden": false,
          "outputs_hidden": false
        },
        "nteract": {
          "transient": {
            "deleting": false
          }
        }
      }
    },
    {
      "cell_type": "code",
      "source": [
        "import base64\n",
        "import pandas as pd\n",
        "from IPython.display import HTML\n",
        "\n",
        "def create_download_link( df, title = \"Download CSV file\", filename = \"data.csv\"):\n",
        "    csv = df.to_csv()\n",
        "    b64 = base64.b64encode(csv.encode())\n",
        "    payload = b64.decode()\n",
        "    html = '<a download=\"{filename}\" href=\"data:text/csv;base64,{payload}\" target=\"_blank\">{title}</a>'\n",
        "    html = html.format(payload=payload,title=title,filename=filename)\n",
        "    return HTML(html)\n",
        "\n",
        "df = pd.DataFrame(df1)\n",
        "create_download_link(df)"
      ],
      "outputs": [
        {
          "output_type": "display_data",
          "data": {
            "application/vnd.livy.statement-meta+json": {
              "spark_pool": "tejasspark",
              "session_id": "2",
              "statement_id": 19,
              "state": "finished",
              "livy_statement_state": "available",
              "queued_time": "2022-11-25T01:12:26.6936781Z",
              "session_start_time": null,
              "execution_start_time": "2022-11-25T01:12:26.8544849Z",
              "execution_finish_time": "2022-11-25T01:12:27.0166437Z",
              "spark_jobs": null
            },
            "text/plain": "StatementMeta(tejasspark, 2, 19, Finished, Available)"
          },
          "metadata": {}
        },
        {
          "output_type": "execute_result",
          "execution_count": 61,
          "data": {
            "text/plain": "<IPython.core.display.HTML object>",
            "text/html": "<a download=\"data.csv\" href=\"data:text/csv;base64,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\" target=\"_blank\">Download CSV file</a>"
          },
          "metadata": {}
        }
      ],
      "execution_count": 19,
      "metadata": {
        "jupyter": {
          "source_hidden": false,
          "outputs_hidden": false
        },
        "nteract": {
          "transient": {
            "deleting": false
          }
        }
      }
    }
  ],
  "metadata": {
    "language_info": {
      "name": "python"
    },
    "kernelspec": {
      "name": "synapse_pyspark",
      "language": "Python",
      "display_name": "Synapse PySpark"
    },
    "kernel_info": {
      "name": "synapse_pyspark"
    },
    "save_output": true,
    "synapse_widget": {
      "version": "0.1",
      "state": {}
    }
  },
  "nbformat": 4,
  "nbformat_minor": 2
}
